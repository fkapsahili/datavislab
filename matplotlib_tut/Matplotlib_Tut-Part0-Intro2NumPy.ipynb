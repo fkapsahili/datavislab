{
 "cells": [
  {
   "cell_type": "markdown",
   "metadata": {},
   "source": [
    "# NumPy\n",
    "The NumPy package provides the \"ndarray\" object. The NumPy array is used to contain data of uniform type with an arbitrary number of dimensions. NumPy then provides basic mathematical and array methods to lay down the foundation for the entire SciPy ecosystem. The following import statement is the generally accepted convention for NumPy."
   ]
  },
  {
   "cell_type": "code",
   "execution_count": 1,
   "metadata": {},
   "outputs": [],
   "source": [
    "import numpy as np"
   ]
  },
  {
   "cell_type": "markdown",
   "metadata": {},
   "source": [
    "## Array Creation\n",
    "There are several ways to make NumPy arrays. An array has three particular attributes that can be queried: shape, size and the number of dimensions."
   ]
  },
  {
   "cell_type": "code",
   "execution_count": 2,
   "metadata": {},
   "outputs": [
    {
     "name": "stdout",
     "output_type": "stream",
     "text": [
      "(3,)\n",
      "3\n",
      "1\n"
     ]
    }
   ],
   "source": [
    "a = np.array([1, 2, 3])\n",
    "print(a.shape)\n",
    "print(a.size)\n",
    "print(a.ndim)"
   ]
  },
  {
   "cell_type": "code",
   "execution_count": 3,
   "metadata": {},
   "outputs": [
    {
     "name": "stdout",
     "output_type": "stream",
     "text": [
      "(100,)\n",
      "100\n",
      "1\n"
     ]
    }
   ],
   "source": [
    "x = np.arange(100)\n",
    "print(x.shape)\n",
    "print(x.size)\n",
    "print(x.ndim)"
   ]
  },
  {
   "cell_type": "code",
   "execution_count": 4,
   "metadata": {},
   "outputs": [
    {
     "name": "stdout",
     "output_type": "stream",
     "text": [
      "(5, 80)\n",
      "400\n",
      "2\n"
     ]
    }
   ],
   "source": [
    "y = np.random.rand(5, 80)\n",
    "print(y.shape)\n",
    "print(y.size)\n",
    "print(y.ndim)"
   ]
  },
  {
   "cell_type": "markdown",
   "metadata": {},
   "source": [
    "## Array Manipulation\n",
    "How to change the shape of an array without a copy!"
   ]
  },
  {
   "cell_type": "code",
   "execution_count": 5,
   "metadata": {},
   "outputs": [
    {
     "name": "stdout",
     "output_type": "stream",
     "text": [
      "[[ 0  1  2  3  4]\n",
      " [ 5  6  7  8  9]\n",
      " [10 11 12 13 14]\n",
      " [15 16 17 18 19]\n",
      " [20 21 22 23 24]\n",
      " [25 26 27 28 29]\n",
      " [30 31 32 33 34]\n",
      " [35 36 37 38 39]\n",
      " [40 41 42 43 44]\n",
      " [45 46 47 48 49]\n",
      " [50 51 52 53 54]\n",
      " [55 56 57 58 59]\n",
      " [60 61 62 63 64]\n",
      " [65 66 67 68 69]\n",
      " [70 71 72 73 74]\n",
      " [75 76 77 78 79]\n",
      " [80 81 82 83 84]\n",
      " [85 86 87 88 89]\n",
      " [90 91 92 93 94]\n",
      " [95 96 97 98 99]]\n"
     ]
    }
   ],
   "source": [
    "x.shape = (20, 5)\n",
    "print(x)"
   ]
  },
  {
   "cell_type": "markdown",
   "metadata": {},
   "source": [
    "NumPy can even automatically figure out the size of at most one dimension for you."
   ]
  },
  {
   "cell_type": "code",
   "execution_count": 6,
   "metadata": {},
   "outputs": [
    {
     "name": "stdout",
     "output_type": "stream",
     "text": [
      "(4, 20, 5)\n"
     ]
    }
   ],
   "source": [
    "y.shape = (4, 20, -1)\n",
    "print(y.shape)"
   ]
  },
  {
   "cell_type": "markdown",
   "metadata": {},
   "source": [
    "## Array Indexing"
   ]
  },
  {
   "cell_type": "code",
   "execution_count": 7,
   "metadata": {},
   "outputs": [
    {
     "name": "stdout",
     "output_type": "stream",
     "text": [
      "[10 11 12 13 14]\n"
     ]
    }
   ],
   "source": [
    "# Scalar Indexing\n",
    "print(x[2])"
   ]
  },
  {
   "cell_type": "code",
   "execution_count": 8,
   "metadata": {},
   "outputs": [
    {
     "name": "stdout",
     "output_type": "stream",
     "text": [
      "[[10 11 12 13 14]\n",
      " [15 16 17 18 19]\n",
      " [20 21 22 23 24]]\n"
     ]
    }
   ],
   "source": [
    "# Slicing\n",
    "print(x[2:5])"
   ]
  },
  {
   "cell_type": "code",
   "execution_count": 9,
   "metadata": {},
   "outputs": [
    {
     "name": "stdout",
     "output_type": "stream",
     "text": [
      "First 5 rows\n",
      " [[ 0  1  2  3  4]\n",
      " [ 5  6  7  8  9]\n",
      " [10 11 12 13 14]\n",
      " [15 16 17 18 19]\n",
      " [20 21 22 23 24]]\n",
      "Row 18 to the end\n",
      " [[90 91 92 93 94]\n",
      " [95 96 97 98 99]]\n",
      "Last 5 rows\n",
      " [[75 76 77 78 79]\n",
      " [80 81 82 83 84]\n",
      " [85 86 87 88 89]\n",
      " [90 91 92 93 94]\n",
      " [95 96 97 98 99]]\n",
      "Reverse the rows\n",
      " [[95 96 97 98 99]\n",
      " [90 91 92 93 94]\n",
      " [85 86 87 88 89]\n",
      " [80 81 82 83 84]\n",
      " [75 76 77 78 79]\n",
      " [70 71 72 73 74]\n",
      " [65 66 67 68 69]\n",
      " [60 61 62 63 64]\n",
      " [55 56 57 58 59]\n",
      " [50 51 52 53 54]\n",
      " [45 46 47 48 49]\n",
      " [40 41 42 43 44]\n",
      " [35 36 37 38 39]\n",
      " [30 31 32 33 34]\n",
      " [25 26 27 28 29]\n",
      " [20 21 22 23 24]\n",
      " [15 16 17 18 19]\n",
      " [10 11 12 13 14]\n",
      " [ 5  6  7  8  9]\n",
      " [ 0  1  2  3  4]]\n"
     ]
    }
   ],
   "source": [
    "# Advanced slicing\n",
    "print(\"First 5 rows\\n\", x[:5])\n",
    "print(\"Row 18 to the end\\n\", x[18:])\n",
    "print(\"Last 5 rows\\n\", x[-5:])\n",
    "print(\"Reverse the rows\\n\", x[::-1])"
   ]
  },
  {
   "cell_type": "code",
   "execution_count": 10,
   "metadata": {},
   "outputs": [
    {
     "name": "stdout",
     "output_type": "stream",
     "text": [
      "[ 0  2  4  6  8 10 12 14 16 18 20 22 24 26 28 30 32 34 36 38 40 42 44 46\n",
      " 48 50 52 54 56 58 60 62 64 66 68 70 72 74 76 78 80 82 84 86 88 90 92 94\n",
      " 96 98]\n"
     ]
    }
   ],
   "source": [
    "# Boolean Indexing\n",
    "print(x[(x % 2) == 0])"
   ]
  },
  {
   "cell_type": "code",
   "execution_count": 11,
   "metadata": {},
   "outputs": [
    {
     "name": "stdout",
     "output_type": "stream",
     "text": [
      "[[ 0  1  2  3  4]\n",
      " [ 5  6  7  8  9]\n",
      " [10 11 12 13 14]\n",
      " [15 16 17 18 19]\n",
      " [20 21 22 23 24]\n",
      " [25 26 27 28 29]\n",
      " [30 31 32 33 34]\n",
      " [35 36 37 38 39]\n",
      " [40 41 42 43 44]\n",
      " [45 46 47 48 49]\n",
      " [50 51 52 53 54]\n",
      " [55 56 57 58 59]\n",
      " [60 61 62 63 64]\n",
      " [65 66 67 68 69]\n",
      " [70 71 72 73 74]\n",
      " [75 76 77 78 79]\n",
      " [80 81 82 83 84]\n",
      " [85 86 87 88 89]\n",
      " [90 91 92 93 94]\n",
      " [95 96 97 98 99]]\n",
      "[[ 5  6  7  8  9]\n",
      " [15 16 17 18 19]\n",
      " [40 41 42 43 44]\n",
      " [45 46 47 48 49]\n",
      " [10 11 12 13 14]]\n"
     ]
    }
   ],
   "source": [
    "# Fancy Indexing -- Note the use of a list, not tuple!\n",
    "print(x)\n",
    "print(x[[1, 3, 8, 9, 2]])"
   ]
  },
  {
   "cell_type": "markdown",
   "metadata": {},
   "source": [
    "## Broadcasting\n",
    "Broadcasting is a very useful feature of NumPy that will let arrays with differing shapes still be used together. In most cases, broadcasting is faster, and it is more memory efficient than the equivalent full array operation."
   ]
  },
  {
   "cell_type": "code",
   "execution_count": 12,
   "metadata": {},
   "outputs": [
    {
     "name": "stdout",
     "output_type": "stream",
     "text": [
      "Shape of X: (20, 5)\n",
      "Shape of Y: (4, 20, 5)\n"
     ]
    },
    {
     "data": {
      "text/plain": [
       "array([[[0.99006561, 0.9088096 , 0.31670581, 0.52471287, 0.52187106],\n",
       "        [0.1063357 , 0.14227933, 0.4056292 , 0.21333014, 0.13200134],\n",
       "        [0.7452258 , 0.70066455, 0.35681715, 0.85850643, 0.29509828],\n",
       "        [0.5289299 , 0.5089104 , 0.07442997, 0.70152296, 0.55268921],\n",
       "        [0.97373484, 0.62955893, 0.73574208, 0.56426242, 0.57265027],\n",
       "        [0.79155005, 0.11877572, 0.59597486, 0.59114219, 0.84728759],\n",
       "        [0.32491074, 0.56883829, 0.97885024, 0.31504281, 0.33656886],\n",
       "        [0.25047432, 0.92454502, 0.21709229, 0.41889616, 0.63816653],\n",
       "        [0.68763018, 0.71004542, 0.17480189, 0.40546584, 0.11481524],\n",
       "        [0.10098263, 0.09330102, 0.14514827, 0.86113608, 0.46028402],\n",
       "        [0.36042197, 0.27887421, 0.15275147, 0.55282398, 0.21838237],\n",
       "        [0.72218656, 0.15667834, 0.95256282, 0.17569191, 0.35795382],\n",
       "        [0.31185247, 0.01424091, 0.28352908, 0.8913361 , 0.72061344],\n",
       "        [0.69684312, 0.92761812, 0.58426071, 0.6588935 , 0.62038695],\n",
       "        [0.62832543, 0.82662515, 0.96417474, 0.88754199, 0.80582636],\n",
       "        [0.41892296, 0.78085412, 0.40149678, 0.46819744, 0.26612273],\n",
       "        [0.83014344, 0.28125694, 0.76672737, 0.18793978, 0.01633224],\n",
       "        [0.51826359, 0.50117189, 0.9848802 , 0.44695804, 0.57332228],\n",
       "        [0.59244438, 0.69178567, 0.22972426, 0.06296462, 0.06340921],\n",
       "        [0.33436534, 0.32636592, 0.98428054, 0.28242558, 0.75848315]],\n",
       "\n",
       "       [[0.7012111 , 0.57530622, 0.56577496, 0.18615956, 0.98797386],\n",
       "        [0.12557548, 0.22796886, 0.05328896, 0.60556809, 0.3452991 ],\n",
       "        [0.53148505, 0.40703751, 0.97179477, 0.27452773, 0.51269203],\n",
       "        [0.46255358, 0.99705323, 0.74510823, 0.38741849, 0.90761981],\n",
       "        [0.78284753, 0.73744059, 0.08427355, 0.49238472, 0.30914049],\n",
       "        [0.37434436, 0.27267651, 0.88175223, 0.93881062, 0.15282927],\n",
       "        [0.50060869, 0.23252121, 0.39219773, 0.89265309, 0.8987142 ],\n",
       "        [0.93111747, 0.14014007, 0.89178355, 0.15230837, 0.21618938],\n",
       "        [0.02564774, 0.39430712, 0.07837183, 0.32469406, 0.32492006],\n",
       "        [0.14863497, 0.15879579, 0.19258978, 0.20364967, 0.47886155],\n",
       "        [0.82966003, 0.6780298 , 0.65457675, 0.42792887, 0.31247454],\n",
       "        [0.31011167, 0.25584635, 0.73594926, 0.84854226, 0.63840653],\n",
       "        [0.65276653, 0.19931813, 0.38430043, 0.66042559, 0.90958314],\n",
       "        [0.4566743 , 0.49010932, 0.40207328, 0.02537979, 0.29133535],\n",
       "        [0.96421092, 0.52287202, 0.53850226, 0.32069906, 0.40603344],\n",
       "        [0.66384272, 0.51745453, 0.8758383 , 0.14800446, 0.57254575],\n",
       "        [0.09384463, 0.02768711, 0.42720937, 0.2667931 , 0.81458191],\n",
       "        [0.45659276, 0.48852052, 0.99325395, 0.39991106, 0.58469996],\n",
       "        [0.02483639, 0.66343206, 0.76218219, 0.60880073, 0.11330048],\n",
       "        [0.41360258, 0.27529244, 0.10511392, 0.50114886, 0.48083406]],\n",
       "\n",
       "       [[0.87740132, 0.18091492, 0.28456842, 0.29531999, 0.34937578],\n",
       "        [0.9915246 , 0.42112217, 0.70017694, 0.04828612, 0.37976497],\n",
       "        [0.14098014, 0.29710481, 0.79032036, 0.87765754, 0.81322738],\n",
       "        [0.91228419, 0.62262781, 0.00904723, 0.56694186, 0.69944344],\n",
       "        [0.30662407, 0.28248801, 0.93558158, 0.00854918, 0.16658163],\n",
       "        [0.76951659, 0.38844958, 0.58826123, 0.31493862, 0.14146998],\n",
       "        [0.59483823, 0.74441249, 0.45238042, 0.09300521, 0.3386474 ],\n",
       "        [0.85262417, 0.33182124, 0.436339  , 0.43146929, 0.8505992 ],\n",
       "        [0.51455734, 0.68177069, 0.36211017, 0.55049293, 0.23407163],\n",
       "        [0.62634495, 0.3825147 , 0.09292488, 0.11298058, 0.62518059],\n",
       "        [0.52066001, 0.08806896, 0.48089069, 0.48711702, 0.24911608],\n",
       "        [0.08542418, 0.75890032, 0.63042563, 0.14167803, 0.65313502],\n",
       "        [0.07253545, 0.93286704, 0.92243047, 0.31425258, 0.56106684],\n",
       "        [0.71955787, 0.84009533, 0.0727002 , 0.6932419 , 0.82171443],\n",
       "        [0.35252664, 0.23263498, 0.62611504, 0.90982014, 0.94635346],\n",
       "        [0.00431938, 0.57012418, 0.08517268, 0.01339483, 0.93480616],\n",
       "        [0.85977863, 0.85250972, 0.92157285, 0.21729677, 0.92673873],\n",
       "        [0.39127568, 0.53147944, 0.55387469, 0.99794548, 0.13114605],\n",
       "        [0.55140529, 0.81469758, 0.26416708, 0.47041036, 0.58696875],\n",
       "        [0.5583376 , 0.19421017, 0.44081327, 0.29885423, 0.27736077]],\n",
       "\n",
       "       [[0.07020481, 0.10318093, 0.68892953, 0.76880283, 0.66722278],\n",
       "        [0.48284033, 0.27458695, 0.90921136, 0.23086922, 0.12801697],\n",
       "        [0.07610049, 0.22372151, 0.16515815, 0.65689054, 0.57493193],\n",
       "        [0.85770739, 0.68442639, 0.08849922, 0.41579974, 0.26418275],\n",
       "        [0.57826346, 0.846684  , 0.39591955, 0.52947948, 0.64105845],\n",
       "        [0.12894933, 0.57967432, 0.62527032, 0.04320619, 0.27691064],\n",
       "        [0.90033186, 0.19995715, 0.3342314 , 0.93704038, 0.94268413],\n",
       "        [0.85063775, 0.3409957 , 0.57373853, 0.378477  , 0.46346978],\n",
       "        [0.80130299, 0.43472424, 0.24338789, 0.64319483, 0.54520015],\n",
       "        [0.46995688, 0.67304012, 0.48446181, 0.69425638, 0.43890898],\n",
       "        [0.06878541, 0.50326489, 0.02427324, 0.19799385, 0.29872391],\n",
       "        [0.028579  , 0.28502601, 0.48347911, 0.70696931, 0.38650064],\n",
       "        [0.37647937, 0.86907092, 0.81463207, 0.89883917, 0.38658601],\n",
       "        [0.41494928, 0.41075374, 0.6833147 , 0.1183534 , 0.90295205],\n",
       "        [0.58014676, 0.3263152 , 0.37645933, 0.07532472, 0.32889282],\n",
       "        [0.79461273, 0.80919232, 0.23390558, 0.12893884, 0.73299361],\n",
       "        [0.31106435, 0.855336  , 0.25958519, 0.95130762, 0.00424926],\n",
       "        [0.98446114, 0.19844742, 0.00941605, 0.17705924, 0.38217609],\n",
       "        [0.72288508, 0.20761248, 0.44231219, 0.46992805, 0.78793082],\n",
       "        [0.04005841, 0.16614838, 0.13913184, 0.71942507, 0.18109679]]])"
      ]
     },
     "execution_count": 12,
     "metadata": {},
     "output_type": "execute_result"
    }
   ],
   "source": [
    "print(\"Shape of X:\", x.shape)\n",
    "print(\"Shape of Y:\", y.shape)\n",
    "y\n"
   ]
  },
  {
   "cell_type": "markdown",
   "metadata": {},
   "source": [
    "Now, here are three identical assignments. The first one takes full advantage of broadcasting by allowing NumPy to automatically add a new dimension to the *left*. The second explicitly adds that dimension with the special NumPy alias \"np.newaxis\". These first two creates a singleton dimension without any new arrays being created. That singleton dimension is then implicitly tiled, much like the third example to match with the RHS of the addition operator. However, unlike the third example, the broadcasting merely re-uses the existing data in memory."
   ]
  },
  {
   "cell_type": "code",
   "execution_count": 13,
   "metadata": {},
   "outputs": [
    {
     "name": "stdout",
     "output_type": "stream",
     "text": [
      "(4, 20, 5)\n",
      "(4, 20, 5)\n",
      "(4, 20, 5)\n",
      "Are a and b identical? True\n",
      "Are a and c identical? True\n"
     ]
    }
   ],
   "source": [
    "a = x + y\n",
    "print(a.shape)\n",
    "b = x[np.newaxis, :, :] + y\n",
    "print(b.shape)\n",
    "c = np.tile(x, (4, 1, 1)) + y\n",
    "print(c.shape)\n",
    "print(\"Are a and b identical?\", np.all(a == b))\n",
    "print(\"Are a and c identical?\", np.all(a == c))"
   ]
  },
  {
   "cell_type": "markdown",
   "metadata": {},
   "source": [
    "Another example of broadcasting two 1-D arrays to make a 2-D array."
   ]
  },
  {
   "cell_type": "code",
   "execution_count": 14,
   "metadata": {},
   "outputs": [
    {
     "name": "stdout",
     "output_type": "stream",
     "text": [
      "(100,) (64,)\n",
      "(64, 100)\n"
     ]
    }
   ],
   "source": [
    "x = np.arange(-5, 5, 0.1)\n",
    "y = np.arange(-8, 8, 0.25)\n",
    "print(x.shape, y.shape)\n",
    "z = x[np.newaxis, :] * y[:, np.newaxis]\n",
    "print(z.shape)"
   ]
  },
  {
   "cell_type": "code",
   "execution_count": 15,
   "metadata": {},
   "outputs": [
    {
     "name": "stdout",
     "output_type": "stream",
     "text": [
      "(1, 100) (64, 1)\n",
      "(64, 100)\n"
     ]
    }
   ],
   "source": [
    "# More concisely\n",
    "y, x = np.ogrid[-8:8:0.25, -5:5:0.1]\n",
    "print(x.shape, y.shape)\n",
    "z = x * y\n",
    "print(z.shape)"
   ]
  }
 ],
 "metadata": {
  "kernelspec": {
   "display_name": "Python 3 (ipykernel)",
   "language": "python",
   "name": "python3"
  },
  "language_info": {
   "codemirror_mode": {
    "name": "ipython",
    "version": 3
   },
   "file_extension": ".py",
   "mimetype": "text/x-python",
   "name": "python",
   "nbconvert_exporter": "python",
   "pygments_lexer": "ipython3",
   "version": "3.10.1"
  }
 },
 "nbformat": 4,
 "nbformat_minor": 4
}
